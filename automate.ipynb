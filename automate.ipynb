{
 "metadata": {
  "language_info": {
   "codemirror_mode": {
    "name": "ipython",
    "version": 3
   },
   "file_extension": ".py",
   "mimetype": "text/x-python",
   "name": "python",
   "nbconvert_exporter": "python",
   "pygments_lexer": "ipython3",
   "version": "3.8.1"
  },
  "orig_nbformat": 2,
  "kernelspec": {
   "name": "python381jvsc74a57bd098c03fd80c39d67a7182d60ed3fc21354e3dc1f3918be03e46d383ced3ccec23",
   "display_name": "Python 3.8.1 64-bit ('env': venv)"
  },
  "metadata": {
   "interpreter": {
    "hash": "98c03fd80c39d67a7182d60ed3fc21354e3dc1f3918be03e46d383ced3ccec23"
   }
  }
 },
 "nbformat": 4,
 "nbformat_minor": 2,
 "cells": [
  {
   "source": [
    "# Automate "
   ],
   "cell_type": "markdown",
   "metadata": {}
  },
  {
   "source": [
    "## Immo 75\n",
    "Real estate data in Paris"
   ],
   "cell_type": "markdown",
   "metadata": {}
  },
  {
   "cell_type": "code",
   "execution_count": 1,
   "metadata": {},
   "outputs": [],
   "source": [
    "def dvf(code_commune):  \n",
    "    # demande de valeur financiere\n",
    "    # dvf(75114)\n",
    "    import urllib.request\n",
    "    import json    \n",
    "\n",
    "    try:\n",
    "        url = \"https://26yrburrn0.execute-api.eu-west-3.amazonaws.com/dev/dvf?code_commune=\"+str(code_commune)   \n",
    "        response = urllib.request.urlopen(url)\n",
    "        html = response.read()\n",
    "        json_data = json.loads(html)\n",
    "        \n",
    "    except urllib.error.URLError:\n",
    "        # if the API doesnt work, read the file\n",
    "        print('Problem with the API')\n",
    "          \n",
    "    return json_data"
   ]
  },
  {
   "cell_type": "code",
   "execution_count": 2,
   "metadata": {},
   "outputs": [],
   "source": [
    "json_data = dvf(75114)"
   ]
  },
  {
   "cell_type": "code",
   "execution_count": 3,
   "metadata": {},
   "outputs": [
    {
     "output_type": "execute_result",
     "data": {
      "text/plain": [
       "      adresse_code_voie    adresse_nom_voie  adresse_numero adresse_suffixe  \\\n",
       "9969               1158         RUE BOULARD            45.0             NaN   \n",
       "9970               6875        RUE D ODESSA             9.0             NaN   \n",
       "9971               8446  RUE DE LA SABLIERE            26.0             NaN   \n",
       "9972               8105           AV REILLE            33.0               B   \n",
       "9973               5000         RUE JONQUOY            41.0             NaN   \n",
       "...                 ...                 ...             ...             ...   \n",
       "10872              3967        RUE GASSENDI            17.0             NaN   \n",
       "10873              3967        RUE GASSENDI            17.0             NaN   \n",
       "10874              2639          RUE DECRES             7.0             NaN   \n",
       "10875              2639          RUE DECRES             7.0             NaN   \n",
       "10876              0143        RUE D ALESIA            74.0             NaN   \n",
       "\n",
       "       ancien_code_commune  ancien_id_parcelle  ancien_nom_commune  \\\n",
       "9969                   NaN                 NaN                 NaN   \n",
       "9970                   NaN                 NaN                 NaN   \n",
       "9971                   NaN                 NaN                 NaN   \n",
       "9972                   NaN                 NaN                 NaN   \n",
       "9973                   NaN                 NaN                 NaN   \n",
       "...                    ...                 ...                 ...   \n",
       "10872                  NaN                 NaN                 NaN   \n",
       "10873                  NaN                 NaN                 NaN   \n",
       "10874                  NaN                 NaN                 NaN   \n",
       "10875                  NaN                 NaN                 NaN   \n",
       "10876                  NaN                 NaN                 NaN   \n",
       "\n",
       "       code_commune  code_departement code_nature_culture  ...  \\\n",
       "9969          75114                75                 NaN  ...   \n",
       "9970          75114                75                 NaN  ...   \n",
       "9971          75114                75                 NaN  ...   \n",
       "9972          75114                75                 NaN  ...   \n",
       "9973          75114                75                 NaN  ...   \n",
       "...             ...               ...                 ...  ...   \n",
       "10872         75114                75                 NaN  ...   \n",
       "10873         75114                75                 NaN  ...   \n",
       "10874         75114                75                 NaN  ...   \n",
       "10875         75114                75                 NaN  ...   \n",
       "10876         75114                75                 NaN  ...   \n",
       "\n",
       "       nature_mutation               nom_commune  nombre_lots  \\\n",
       "9969             Vente  Paris 14e Arrondissement            1   \n",
       "9970             Vente  Paris 14e Arrondissement            1   \n",
       "9971             Vente  Paris 14e Arrondissement            2   \n",
       "9972             Vente  Paris 14e Arrondissement            1   \n",
       "9973             Vente  Paris 14e Arrondissement            2   \n",
       "...                ...                       ...          ...   \n",
       "10872            Vente  Paris 14e Arrondissement            2   \n",
       "10873            Vente  Paris 14e Arrondissement            1   \n",
       "10874            Vente  Paris 14e Arrondissement            1   \n",
       "10875            Vente  Paris 14e Arrondissement            1   \n",
       "10876            Vente  Paris 14e Arrondissement            1   \n",
       "\n",
       "      nombre_pieces_principales numero_disposition numero_volume  \\\n",
       "9969                        3.0                  1           NaN   \n",
       "9970                        3.0                  1           NaN   \n",
       "9971                        1.0                  1           NaN   \n",
       "9972                        1.0                  1           NaN   \n",
       "9973                        4.0                  1           NaN   \n",
       "...                         ...                ...           ...   \n",
       "10872                       2.0                  1           NaN   \n",
       "10873                       1.0                  1           NaN   \n",
       "10874                       0.0                  1           NaN   \n",
       "10875                       0.0                  1           NaN   \n",
       "10876                       2.0                  1           NaN   \n",
       "\n",
       "       surface_reelle_bati  surface_terrain  \\\n",
       "9969                  31.0              NaN   \n",
       "9970                  43.0              NaN   \n",
       "9971                  18.0              NaN   \n",
       "9972                  25.0              NaN   \n",
       "9973                  75.0              NaN   \n",
       "...                    ...              ...   \n",
       "10872                 21.0              NaN   \n",
       "10873                 10.0              NaN   \n",
       "10874                 25.0              NaN   \n",
       "10875                 12.0              NaN   \n",
       "10876                 46.0              NaN   \n",
       "\n",
       "                                     type_local  valeur_fonciere  \n",
       "9969                                Appartement          95000.0  \n",
       "9970                                Appartement         545000.0  \n",
       "9971                                Appartement         220000.0  \n",
       "9972                                Appartement         132500.0  \n",
       "9973                                Appartement         590000.0  \n",
       "...                                         ...              ...  \n",
       "10872                               Appartement         335500.0  \n",
       "10873                               Appartement         335500.0  \n",
       "10874  Local industriel. commercial ou assimilé         238925.0  \n",
       "10875  Local industriel. commercial ou assimilé         238925.0  \n",
       "10876                               Appartement         575000.0  \n",
       "\n",
       "[908 rows x 40 columns]"
      ],
      "text/html": "<div>\n<style scoped>\n    .dataframe tbody tr th:only-of-type {\n        vertical-align: middle;\n    }\n\n    .dataframe tbody tr th {\n        vertical-align: top;\n    }\n\n    .dataframe thead th {\n        text-align: right;\n    }\n</style>\n<table border=\"1\" class=\"dataframe\">\n  <thead>\n    <tr style=\"text-align: right;\">\n      <th></th>\n      <th>adresse_code_voie</th>\n      <th>adresse_nom_voie</th>\n      <th>adresse_numero</th>\n      <th>adresse_suffixe</th>\n      <th>ancien_code_commune</th>\n      <th>ancien_id_parcelle</th>\n      <th>ancien_nom_commune</th>\n      <th>code_commune</th>\n      <th>code_departement</th>\n      <th>code_nature_culture</th>\n      <th>...</th>\n      <th>nature_mutation</th>\n      <th>nom_commune</th>\n      <th>nombre_lots</th>\n      <th>nombre_pieces_principales</th>\n      <th>numero_disposition</th>\n      <th>numero_volume</th>\n      <th>surface_reelle_bati</th>\n      <th>surface_terrain</th>\n      <th>type_local</th>\n      <th>valeur_fonciere</th>\n    </tr>\n  </thead>\n  <tbody>\n    <tr>\n      <th>9969</th>\n      <td>1158</td>\n      <td>RUE BOULARD</td>\n      <td>45.0</td>\n      <td>NaN</td>\n      <td>NaN</td>\n      <td>NaN</td>\n      <td>NaN</td>\n      <td>75114</td>\n      <td>75</td>\n      <td>NaN</td>\n      <td>...</td>\n      <td>Vente</td>\n      <td>Paris 14e Arrondissement</td>\n      <td>1</td>\n      <td>3.0</td>\n      <td>1</td>\n      <td>NaN</td>\n      <td>31.0</td>\n      <td>NaN</td>\n      <td>Appartement</td>\n      <td>95000.0</td>\n    </tr>\n    <tr>\n      <th>9970</th>\n      <td>6875</td>\n      <td>RUE D ODESSA</td>\n      <td>9.0</td>\n      <td>NaN</td>\n      <td>NaN</td>\n      <td>NaN</td>\n      <td>NaN</td>\n      <td>75114</td>\n      <td>75</td>\n      <td>NaN</td>\n      <td>...</td>\n      <td>Vente</td>\n      <td>Paris 14e Arrondissement</td>\n      <td>1</td>\n      <td>3.0</td>\n      <td>1</td>\n      <td>NaN</td>\n      <td>43.0</td>\n      <td>NaN</td>\n      <td>Appartement</td>\n      <td>545000.0</td>\n    </tr>\n    <tr>\n      <th>9971</th>\n      <td>8446</td>\n      <td>RUE DE LA SABLIERE</td>\n      <td>26.0</td>\n      <td>NaN</td>\n      <td>NaN</td>\n      <td>NaN</td>\n      <td>NaN</td>\n      <td>75114</td>\n      <td>75</td>\n      <td>NaN</td>\n      <td>...</td>\n      <td>Vente</td>\n      <td>Paris 14e Arrondissement</td>\n      <td>2</td>\n      <td>1.0</td>\n      <td>1</td>\n      <td>NaN</td>\n      <td>18.0</td>\n      <td>NaN</td>\n      <td>Appartement</td>\n      <td>220000.0</td>\n    </tr>\n    <tr>\n      <th>9972</th>\n      <td>8105</td>\n      <td>AV REILLE</td>\n      <td>33.0</td>\n      <td>B</td>\n      <td>NaN</td>\n      <td>NaN</td>\n      <td>NaN</td>\n      <td>75114</td>\n      <td>75</td>\n      <td>NaN</td>\n      <td>...</td>\n      <td>Vente</td>\n      <td>Paris 14e Arrondissement</td>\n      <td>1</td>\n      <td>1.0</td>\n      <td>1</td>\n      <td>NaN</td>\n      <td>25.0</td>\n      <td>NaN</td>\n      <td>Appartement</td>\n      <td>132500.0</td>\n    </tr>\n    <tr>\n      <th>9973</th>\n      <td>5000</td>\n      <td>RUE JONQUOY</td>\n      <td>41.0</td>\n      <td>NaN</td>\n      <td>NaN</td>\n      <td>NaN</td>\n      <td>NaN</td>\n      <td>75114</td>\n      <td>75</td>\n      <td>NaN</td>\n      <td>...</td>\n      <td>Vente</td>\n      <td>Paris 14e Arrondissement</td>\n      <td>2</td>\n      <td>4.0</td>\n      <td>1</td>\n      <td>NaN</td>\n      <td>75.0</td>\n      <td>NaN</td>\n      <td>Appartement</td>\n      <td>590000.0</td>\n    </tr>\n    <tr>\n      <th>...</th>\n      <td>...</td>\n      <td>...</td>\n      <td>...</td>\n      <td>...</td>\n      <td>...</td>\n      <td>...</td>\n      <td>...</td>\n      <td>...</td>\n      <td>...</td>\n      <td>...</td>\n      <td>...</td>\n      <td>...</td>\n      <td>...</td>\n      <td>...</td>\n      <td>...</td>\n      <td>...</td>\n      <td>...</td>\n      <td>...</td>\n      <td>...</td>\n      <td>...</td>\n      <td>...</td>\n    </tr>\n    <tr>\n      <th>10872</th>\n      <td>3967</td>\n      <td>RUE GASSENDI</td>\n      <td>17.0</td>\n      <td>NaN</td>\n      <td>NaN</td>\n      <td>NaN</td>\n      <td>NaN</td>\n      <td>75114</td>\n      <td>75</td>\n      <td>NaN</td>\n      <td>...</td>\n      <td>Vente</td>\n      <td>Paris 14e Arrondissement</td>\n      <td>2</td>\n      <td>2.0</td>\n      <td>1</td>\n      <td>NaN</td>\n      <td>21.0</td>\n      <td>NaN</td>\n      <td>Appartement</td>\n      <td>335500.0</td>\n    </tr>\n    <tr>\n      <th>10873</th>\n      <td>3967</td>\n      <td>RUE GASSENDI</td>\n      <td>17.0</td>\n      <td>NaN</td>\n      <td>NaN</td>\n      <td>NaN</td>\n      <td>NaN</td>\n      <td>75114</td>\n      <td>75</td>\n      <td>NaN</td>\n      <td>...</td>\n      <td>Vente</td>\n      <td>Paris 14e Arrondissement</td>\n      <td>1</td>\n      <td>1.0</td>\n      <td>1</td>\n      <td>NaN</td>\n      <td>10.0</td>\n      <td>NaN</td>\n      <td>Appartement</td>\n      <td>335500.0</td>\n    </tr>\n    <tr>\n      <th>10874</th>\n      <td>2639</td>\n      <td>RUE DECRES</td>\n      <td>7.0</td>\n      <td>NaN</td>\n      <td>NaN</td>\n      <td>NaN</td>\n      <td>NaN</td>\n      <td>75114</td>\n      <td>75</td>\n      <td>NaN</td>\n      <td>...</td>\n      <td>Vente</td>\n      <td>Paris 14e Arrondissement</td>\n      <td>1</td>\n      <td>0.0</td>\n      <td>1</td>\n      <td>NaN</td>\n      <td>25.0</td>\n      <td>NaN</td>\n      <td>Local industriel. commercial ou assimilé</td>\n      <td>238925.0</td>\n    </tr>\n    <tr>\n      <th>10875</th>\n      <td>2639</td>\n      <td>RUE DECRES</td>\n      <td>7.0</td>\n      <td>NaN</td>\n      <td>NaN</td>\n      <td>NaN</td>\n      <td>NaN</td>\n      <td>75114</td>\n      <td>75</td>\n      <td>NaN</td>\n      <td>...</td>\n      <td>Vente</td>\n      <td>Paris 14e Arrondissement</td>\n      <td>1</td>\n      <td>0.0</td>\n      <td>1</td>\n      <td>NaN</td>\n      <td>12.0</td>\n      <td>NaN</td>\n      <td>Local industriel. commercial ou assimilé</td>\n      <td>238925.0</td>\n    </tr>\n    <tr>\n      <th>10876</th>\n      <td>0143</td>\n      <td>RUE D ALESIA</td>\n      <td>74.0</td>\n      <td>NaN</td>\n      <td>NaN</td>\n      <td>NaN</td>\n      <td>NaN</td>\n      <td>75114</td>\n      <td>75</td>\n      <td>NaN</td>\n      <td>...</td>\n      <td>Vente</td>\n      <td>Paris 14e Arrondissement</td>\n      <td>1</td>\n      <td>2.0</td>\n      <td>1</td>\n      <td>NaN</td>\n      <td>46.0</td>\n      <td>NaN</td>\n      <td>Appartement</td>\n      <td>575000.0</td>\n    </tr>\n  </tbody>\n</table>\n<p>908 rows × 40 columns</p>\n</div>"
     },
     "metadata": {},
     "execution_count": 3
    }
   ],
   "source": [
    "import pandas as pd\n",
    "df = pd.DataFrame.from_dict(json_data)\n",
    "df"
   ]
  },
  {
   "cell_type": "code",
   "execution_count": 4,
   "metadata": {},
   "outputs": [],
   "source": [
    "df.to_excel('dvf14.xlsx')"
   ]
  },
  {
   "source": [
    "##  Excel automation"
   ],
   "cell_type": "markdown",
   "metadata": {}
  },
  {
   "cell_type": "code",
   "execution_count": 5,
   "metadata": {},
   "outputs": [],
   "source": [
    "import openpyxl as xl\n",
    "from openpyxl.chart import LineChart, Reference"
   ]
  },
  {
   "source": [
    "Adding manually a second sheet selecting only the surface and price"
   ],
   "cell_type": "markdown",
   "metadata": {}
  },
  {
   "cell_type": "code",
   "execution_count": 8,
   "metadata": {},
   "outputs": [],
   "source": [
    "workbook = xl.load_workbook('dvf14.xlsx')\n",
    "sheet_1 = workbook['Sheet1']\n",
    "sheet_2 = workbook['Sheet2']"
   ]
  },
  {
   "cell_type": "code",
   "execution_count": 9,
   "metadata": {},
   "outputs": [
    {
     "output_type": "execute_result",
     "data": {
      "text/plain": [
       "'Sheet2'!$B$2:$B$909"
      ]
     },
     "metadata": {},
     "execution_count": 9
    }
   ],
   "source": [
    "values = Reference(sheet_2, min_row = 2, max_row = sheet_1.max_row, min_col = 2, max_col = 2)\n",
    "values"
   ]
  },
  {
   "cell_type": "code",
   "execution_count": 10,
   "metadata": {},
   "outputs": [],
   "source": [
    "chart = LineChart()\n",
    "chart.y_axis.title = 'Price'\n",
    "chart.x_axis.title = 'Index'\n",
    "chart.add_data(values)\n",
    "sheet_2.add_chart(chart, 'e2') \n",
    "workbook.save('dvf14_chart.xlsx')"
   ]
  },
  {
   "source": [
    "![immo_chart](immo_chart.png)"
   ],
   "cell_type": "markdown",
   "metadata": {}
  },
  {
   "source": [
    "## Extracting chart"
   ],
   "cell_type": "markdown",
   "metadata": {}
  },
  {
   "cell_type": "code",
   "execution_count": 39,
   "metadata": {},
   "outputs": [],
   "source": [
    "input_file = \"C:\\\\Users\\\\ydebray\\\\Downloads\\\\automate\\\\dvf14_chart.xlsx\"\n",
    "output_image = \"chart.png\""
   ]
  },
  {
   "cell_type": "code",
   "execution_count": 40,
   "metadata": {},
   "outputs": [],
   "source": [
    "import win32com.client\n",
    "operation = win32com.client.Dispatch(\"Excel.Application\")\n",
    "operation.Visible = 0\n",
    "operation.DisplayAlerts = 0\n",
    "workbook_bis = operation.Workbooks.Open(input_file)\n",
    "sheet_bis = operation.Sheets(2)"
   ]
  },
  {
   "cell_type": "code",
   "execution_count": 41,
   "metadata": {},
   "outputs": [],
   "source": [
    "from PIL import ImageGrab, Image\n",
    "for x, chart in enumerate(sheet_bis.Shapes):\n",
    "    chart.Copy()\n",
    "    image = ImageGrab.grabclipboard()\n",
    "    image.save(output_image, 'png')\n",
    "    pass\n",
    "workbook_bis.Close(True)\n",
    "operation.Quit()"
   ]
  },
  {
   "cell_type": "code",
   "execution_count": 42,
   "metadata": {},
   "outputs": [
    {
     "output_type": "execute_result",
     "data": {
      "image/png": "[encoded data removed]",
      "text/plain": [
       "<IPython.core.display.Image object>"
      ]
     },
     "metadata": {},
     "execution_count": 42
    }
   ],
   "source": [
    "from IPython.display import Image\n",
    "Image(output_image)"
   ]
  }
 ]
}