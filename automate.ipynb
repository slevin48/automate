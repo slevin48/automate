{
 "cells": [
  {
   "cell_type": "markdown",
   "metadata": {},
   "source": [
    "# Automate "
   ]
  },
  {
   "cell_type": "markdown",
   "metadata": {},
   "source": [
    "## Immo 75\n",
    "Real estate data in Paris"
   ]
  },
  {
   "cell_type": "code",
   "execution_count": 1,
   "metadata": {},
   "outputs": [],
   "source": [
    "def dvf(code_commune):  \n",
    "    # demande de valeur financiere\n",
    "    # dvf(75114)\n",
    "    import urllib.request\n",
    "    import json    \n",
    "\n",
    "    try:\n",
    "        url = \"https://26yrburrn0.execute-api.eu-west-3.amazonaws.com/dev/dvf?code_commune=\"+str(code_commune)   \n",
    "        response = urllib.request.urlopen(url)\n",
    "        html = response.read()\n",
    "        json_data = json.loads(html)\n",
    "        \n",
    "    except urllib.error.URLError:\n",
    "        # if the API doesnt work, read the file\n",
    "        print('Problem with the API')\n",
    "          \n",
    "    return json_data"
   ]
  },
  {
   "cell_type": "code",
   "execution_count": 2,
   "metadata": {},
   "outputs": [],
   "source": [
    "json_data = dvf(75114)"
   ]
  },
  {
   "cell_type": "code",
   "execution_count": 3,
   "metadata": {},
   "outputs": [
    {
     "data": {
      "text/html": [
       "<div>\n",
       "<style scoped>\n",
       "    .dataframe tbody tr th:only-of-type {\n",
       "        vertical-align: middle;\n",
       "    }\n",
       "\n",
       "    .dataframe tbody tr th {\n",
       "        vertical-align: top;\n",
       "    }\n",
       "\n",
       "    .dataframe thead th {\n",
       "        text-align: right;\n",
       "    }\n",
       "</style>\n",
       "<table border=\"1\" class=\"dataframe\">\n",
       "  <thead>\n",
       "    <tr style=\"text-align: right;\">\n",
       "      <th></th>\n",
       "      <th>adresse_code_voie</th>\n",
       "      <th>adresse_nom_voie</th>\n",
       "      <th>adresse_numero</th>\n",
       "      <th>adresse_suffixe</th>\n",
       "      <th>ancien_code_commune</th>\n",
       "      <th>ancien_id_parcelle</th>\n",
       "      <th>ancien_nom_commune</th>\n",
       "      <th>code_commune</th>\n",
       "      <th>code_departement</th>\n",
       "      <th>code_nature_culture</th>\n",
       "      <th>...</th>\n",
       "      <th>nature_mutation</th>\n",
       "      <th>nom_commune</th>\n",
       "      <th>nombre_lots</th>\n",
       "      <th>nombre_pieces_principales</th>\n",
       "      <th>numero_disposition</th>\n",
       "      <th>numero_volume</th>\n",
       "      <th>surface_reelle_bati</th>\n",
       "      <th>surface_terrain</th>\n",
       "      <th>type_local</th>\n",
       "      <th>valeur_fonciere</th>\n",
       "    </tr>\n",
       "  </thead>\n",
       "  <tbody>\n",
       "    <tr>\n",
       "      <th>9969</th>\n",
       "      <td>1158</td>\n",
       "      <td>RUE BOULARD</td>\n",
       "      <td>45.0</td>\n",
       "      <td>NaN</td>\n",
       "      <td>NaN</td>\n",
       "      <td>NaN</td>\n",
       "      <td>NaN</td>\n",
       "      <td>75114</td>\n",
       "      <td>75</td>\n",
       "      <td>NaN</td>\n",
       "      <td>...</td>\n",
       "      <td>Vente</td>\n",
       "      <td>Paris 14e Arrondissement</td>\n",
       "      <td>1</td>\n",
       "      <td>3.0</td>\n",
       "      <td>1</td>\n",
       "      <td>NaN</td>\n",
       "      <td>31.0</td>\n",
       "      <td>NaN</td>\n",
       "      <td>Appartement</td>\n",
       "      <td>95000.0</td>\n",
       "    </tr>\n",
       "    <tr>\n",
       "      <th>9970</th>\n",
       "      <td>6875</td>\n",
       "      <td>RUE D ODESSA</td>\n",
       "      <td>9.0</td>\n",
       "      <td>NaN</td>\n",
       "      <td>NaN</td>\n",
       "      <td>NaN</td>\n",
       "      <td>NaN</td>\n",
       "      <td>75114</td>\n",
       "      <td>75</td>\n",
       "      <td>NaN</td>\n",
       "      <td>...</td>\n",
       "      <td>Vente</td>\n",
       "      <td>Paris 14e Arrondissement</td>\n",
       "      <td>1</td>\n",
       "      <td>3.0</td>\n",
       "      <td>1</td>\n",
       "      <td>NaN</td>\n",
       "      <td>43.0</td>\n",
       "      <td>NaN</td>\n",
       "      <td>Appartement</td>\n",
       "      <td>545000.0</td>\n",
       "    </tr>\n",
       "    <tr>\n",
       "      <th>9971</th>\n",
       "      <td>8446</td>\n",
       "      <td>RUE DE LA SABLIERE</td>\n",
       "      <td>26.0</td>\n",
       "      <td>NaN</td>\n",
       "      <td>NaN</td>\n",
       "      <td>NaN</td>\n",
       "      <td>NaN</td>\n",
       "      <td>75114</td>\n",
       "      <td>75</td>\n",
       "      <td>NaN</td>\n",
       "      <td>...</td>\n",
       "      <td>Vente</td>\n",
       "      <td>Paris 14e Arrondissement</td>\n",
       "      <td>2</td>\n",
       "      <td>1.0</td>\n",
       "      <td>1</td>\n",
       "      <td>NaN</td>\n",
       "      <td>18.0</td>\n",
       "      <td>NaN</td>\n",
       "      <td>Appartement</td>\n",
       "      <td>220000.0</td>\n",
       "    </tr>\n",
       "    <tr>\n",
       "      <th>9972</th>\n",
       "      <td>8105</td>\n",
       "      <td>AV REILLE</td>\n",
       "      <td>33.0</td>\n",
       "      <td>B</td>\n",
       "      <td>NaN</td>\n",
       "      <td>NaN</td>\n",
       "      <td>NaN</td>\n",
       "      <td>75114</td>\n",
       "      <td>75</td>\n",
       "      <td>NaN</td>\n",
       "      <td>...</td>\n",
       "      <td>Vente</td>\n",
       "      <td>Paris 14e Arrondissement</td>\n",
       "      <td>1</td>\n",
       "      <td>1.0</td>\n",
       "      <td>1</td>\n",
       "      <td>NaN</td>\n",
       "      <td>25.0</td>\n",
       "      <td>NaN</td>\n",
       "      <td>Appartement</td>\n",
       "      <td>132500.0</td>\n",
       "    </tr>\n",
       "    <tr>\n",
       "      <th>9973</th>\n",
       "      <td>5000</td>\n",
       "      <td>RUE JONQUOY</td>\n",
       "      <td>41.0</td>\n",
       "      <td>NaN</td>\n",
       "      <td>NaN</td>\n",
       "      <td>NaN</td>\n",
       "      <td>NaN</td>\n",
       "      <td>75114</td>\n",
       "      <td>75</td>\n",
       "      <td>NaN</td>\n",
       "      <td>...</td>\n",
       "      <td>Vente</td>\n",
       "      <td>Paris 14e Arrondissement</td>\n",
       "      <td>2</td>\n",
       "      <td>4.0</td>\n",
       "      <td>1</td>\n",
       "      <td>NaN</td>\n",
       "      <td>75.0</td>\n",
       "      <td>NaN</td>\n",
       "      <td>Appartement</td>\n",
       "      <td>590000.0</td>\n",
       "    </tr>\n",
       "    <tr>\n",
       "      <th>...</th>\n",
       "      <td>...</td>\n",
       "      <td>...</td>\n",
       "      <td>...</td>\n",
       "      <td>...</td>\n",
       "      <td>...</td>\n",
       "      <td>...</td>\n",
       "      <td>...</td>\n",
       "      <td>...</td>\n",
       "      <td>...</td>\n",
       "      <td>...</td>\n",
       "      <td>...</td>\n",
       "      <td>...</td>\n",
       "      <td>...</td>\n",
       "      <td>...</td>\n",
       "      <td>...</td>\n",
       "      <td>...</td>\n",
       "      <td>...</td>\n",
       "      <td>...</td>\n",
       "      <td>...</td>\n",
       "      <td>...</td>\n",
       "      <td>...</td>\n",
       "    </tr>\n",
       "    <tr>\n",
       "      <th>10872</th>\n",
       "      <td>3967</td>\n",
       "      <td>RUE GASSENDI</td>\n",
       "      <td>17.0</td>\n",
       "      <td>NaN</td>\n",
       "      <td>NaN</td>\n",
       "      <td>NaN</td>\n",
       "      <td>NaN</td>\n",
       "      <td>75114</td>\n",
       "      <td>75</td>\n",
       "      <td>NaN</td>\n",
       "      <td>...</td>\n",
       "      <td>Vente</td>\n",
       "      <td>Paris 14e Arrondissement</td>\n",
       "      <td>2</td>\n",
       "      <td>2.0</td>\n",
       "      <td>1</td>\n",
       "      <td>NaN</td>\n",
       "      <td>21.0</td>\n",
       "      <td>NaN</td>\n",
       "      <td>Appartement</td>\n",
       "      <td>335500.0</td>\n",
       "    </tr>\n",
       "    <tr>\n",
       "      <th>10873</th>\n",
       "      <td>3967</td>\n",
       "      <td>RUE GASSENDI</td>\n",
       "      <td>17.0</td>\n",
       "      <td>NaN</td>\n",
       "      <td>NaN</td>\n",
       "      <td>NaN</td>\n",
       "      <td>NaN</td>\n",
       "      <td>75114</td>\n",
       "      <td>75</td>\n",
       "      <td>NaN</td>\n",
       "      <td>...</td>\n",
       "      <td>Vente</td>\n",
       "      <td>Paris 14e Arrondissement</td>\n",
       "      <td>1</td>\n",
       "      <td>1.0</td>\n",
       "      <td>1</td>\n",
       "      <td>NaN</td>\n",
       "      <td>10.0</td>\n",
       "      <td>NaN</td>\n",
       "      <td>Appartement</td>\n",
       "      <td>335500.0</td>\n",
       "    </tr>\n",
       "    <tr>\n",
       "      <th>10874</th>\n",
       "      <td>2639</td>\n",
       "      <td>RUE DECRES</td>\n",
       "      <td>7.0</td>\n",
       "      <td>NaN</td>\n",
       "      <td>NaN</td>\n",
       "      <td>NaN</td>\n",
       "      <td>NaN</td>\n",
       "      <td>75114</td>\n",
       "      <td>75</td>\n",
       "      <td>NaN</td>\n",
       "      <td>...</td>\n",
       "      <td>Vente</td>\n",
       "      <td>Paris 14e Arrondissement</td>\n",
       "      <td>1</td>\n",
       "      <td>0.0</td>\n",
       "      <td>1</td>\n",
       "      <td>NaN</td>\n",
       "      <td>25.0</td>\n",
       "      <td>NaN</td>\n",
       "      <td>Local industriel. commercial ou assimilé</td>\n",
       "      <td>238925.0</td>\n",
       "    </tr>\n",
       "    <tr>\n",
       "      <th>10875</th>\n",
       "      <td>2639</td>\n",
       "      <td>RUE DECRES</td>\n",
       "      <td>7.0</td>\n",
       "      <td>NaN</td>\n",
       "      <td>NaN</td>\n",
       "      <td>NaN</td>\n",
       "      <td>NaN</td>\n",
       "      <td>75114</td>\n",
       "      <td>75</td>\n",
       "      <td>NaN</td>\n",
       "      <td>...</td>\n",
       "      <td>Vente</td>\n",
       "      <td>Paris 14e Arrondissement</td>\n",
       "      <td>1</td>\n",
       "      <td>0.0</td>\n",
       "      <td>1</td>\n",
       "      <td>NaN</td>\n",
       "      <td>12.0</td>\n",
       "      <td>NaN</td>\n",
       "      <td>Local industriel. commercial ou assimilé</td>\n",
       "      <td>238925.0</td>\n",
       "    </tr>\n",
       "    <tr>\n",
       "      <th>10876</th>\n",
       "      <td>0143</td>\n",
       "      <td>RUE D ALESIA</td>\n",
       "      <td>74.0</td>\n",
       "      <td>NaN</td>\n",
       "      <td>NaN</td>\n",
       "      <td>NaN</td>\n",
       "      <td>NaN</td>\n",
       "      <td>75114</td>\n",
       "      <td>75</td>\n",
       "      <td>NaN</td>\n",
       "      <td>...</td>\n",
       "      <td>Vente</td>\n",
       "      <td>Paris 14e Arrondissement</td>\n",
       "      <td>1</td>\n",
       "      <td>2.0</td>\n",
       "      <td>1</td>\n",
       "      <td>NaN</td>\n",
       "      <td>46.0</td>\n",
       "      <td>NaN</td>\n",
       "      <td>Appartement</td>\n",
       "      <td>575000.0</td>\n",
       "    </tr>\n",
       "  </tbody>\n",
       "</table>\n",
       "<p>908 rows × 40 columns</p>\n",
       "</div>"
      ],
      "text/plain": [
       "      adresse_code_voie    adresse_nom_voie  adresse_numero adresse_suffixe  \\\n",
       "9969               1158         RUE BOULARD            45.0             NaN   \n",
       "9970               6875        RUE D ODESSA             9.0             NaN   \n",
       "9971               8446  RUE DE LA SABLIERE            26.0             NaN   \n",
       "9972               8105           AV REILLE            33.0               B   \n",
       "9973               5000         RUE JONQUOY            41.0             NaN   \n",
       "...                 ...                 ...             ...             ...   \n",
       "10872              3967        RUE GASSENDI            17.0             NaN   \n",
       "10873              3967        RUE GASSENDI            17.0             NaN   \n",
       "10874              2639          RUE DECRES             7.0             NaN   \n",
       "10875              2639          RUE DECRES             7.0             NaN   \n",
       "10876              0143        RUE D ALESIA            74.0             NaN   \n",
       "\n",
       "       ancien_code_commune  ancien_id_parcelle  ancien_nom_commune  \\\n",
       "9969                   NaN                 NaN                 NaN   \n",
       "9970                   NaN                 NaN                 NaN   \n",
       "9971                   NaN                 NaN                 NaN   \n",
       "9972                   NaN                 NaN                 NaN   \n",
       "9973                   NaN                 NaN                 NaN   \n",
       "...                    ...                 ...                 ...   \n",
       "10872                  NaN                 NaN                 NaN   \n",
       "10873                  NaN                 NaN                 NaN   \n",
       "10874                  NaN                 NaN                 NaN   \n",
       "10875                  NaN                 NaN                 NaN   \n",
       "10876                  NaN                 NaN                 NaN   \n",
       "\n",
       "       code_commune  code_departement code_nature_culture  ...  \\\n",
       "9969          75114                75                 NaN  ...   \n",
       "9970          75114                75                 NaN  ...   \n",
       "9971          75114                75                 NaN  ...   \n",
       "9972          75114                75                 NaN  ...   \n",
       "9973          75114                75                 NaN  ...   \n",
       "...             ...               ...                 ...  ...   \n",
       "10872         75114                75                 NaN  ...   \n",
       "10873         75114                75                 NaN  ...   \n",
       "10874         75114                75                 NaN  ...   \n",
       "10875         75114                75                 NaN  ...   \n",
       "10876         75114                75                 NaN  ...   \n",
       "\n",
       "       nature_mutation               nom_commune  nombre_lots  \\\n",
       "9969             Vente  Paris 14e Arrondissement            1   \n",
       "9970             Vente  Paris 14e Arrondissement            1   \n",
       "9971             Vente  Paris 14e Arrondissement            2   \n",
       "9972             Vente  Paris 14e Arrondissement            1   \n",
       "9973             Vente  Paris 14e Arrondissement            2   \n",
       "...                ...                       ...          ...   \n",
       "10872            Vente  Paris 14e Arrondissement            2   \n",
       "10873            Vente  Paris 14e Arrondissement            1   \n",
       "10874            Vente  Paris 14e Arrondissement            1   \n",
       "10875            Vente  Paris 14e Arrondissement            1   \n",
       "10876            Vente  Paris 14e Arrondissement            1   \n",
       "\n",
       "      nombre_pieces_principales numero_disposition numero_volume  \\\n",
       "9969                        3.0                  1           NaN   \n",
       "9970                        3.0                  1           NaN   \n",
       "9971                        1.0                  1           NaN   \n",
       "9972                        1.0                  1           NaN   \n",
       "9973                        4.0                  1           NaN   \n",
       "...                         ...                ...           ...   \n",
       "10872                       2.0                  1           NaN   \n",
       "10873                       1.0                  1           NaN   \n",
       "10874                       0.0                  1           NaN   \n",
       "10875                       0.0                  1           NaN   \n",
       "10876                       2.0                  1           NaN   \n",
       "\n",
       "       surface_reelle_bati  surface_terrain  \\\n",
       "9969                  31.0              NaN   \n",
       "9970                  43.0              NaN   \n",
       "9971                  18.0              NaN   \n",
       "9972                  25.0              NaN   \n",
       "9973                  75.0              NaN   \n",
       "...                    ...              ...   \n",
       "10872                 21.0              NaN   \n",
       "10873                 10.0              NaN   \n",
       "10874                 25.0              NaN   \n",
       "10875                 12.0              NaN   \n",
       "10876                 46.0              NaN   \n",
       "\n",
       "                                     type_local  valeur_fonciere  \n",
       "9969                                Appartement          95000.0  \n",
       "9970                                Appartement         545000.0  \n",
       "9971                                Appartement         220000.0  \n",
       "9972                                Appartement         132500.0  \n",
       "9973                                Appartement         590000.0  \n",
       "...                                         ...              ...  \n",
       "10872                               Appartement         335500.0  \n",
       "10873                               Appartement         335500.0  \n",
       "10874  Local industriel. commercial ou assimilé         238925.0  \n",
       "10875  Local industriel. commercial ou assimilé         238925.0  \n",
       "10876                               Appartement         575000.0  \n",
       "\n",
       "[908 rows x 40 columns]"
      ]
     },
     "execution_count": 3,
     "metadata": {},
     "output_type": "execute_result"
    }
   ],
   "source": [
    "import pandas as pd\n",
    "df = pd.DataFrame.from_dict(json_data)\n",
    "df"
   ]
  },
  {
   "cell_type": "code",
   "execution_count": 52,
   "metadata": {},
   "outputs": [
    {
     "data": {
      "text/plain": [
       "<AxesSubplot:>"
      ]
     },
     "execution_count": 52,
     "metadata": {},
     "output_type": "execute_result"
    },
    {
     "data": {
      "image/png": "[encoded data removed]",
      "text/plain": [
       "<Figure size 432x288 with 1 Axes>"
      ]
     },
     "metadata": {
      "needs_background": "light"
     },
     "output_type": "display_data"
    }
   ],
   "source": [
    "df2 = df[(df.valeur_fonciere < 3000000) & (df.surface_reelle_bati < 400)]\n",
    "df2.valeur_fonciere.plot()"
   ]
  },
  {
   "cell_type": "code",
   "execution_count": 53,
   "metadata": {},
   "outputs": [],
   "source": [
    "df2.to_excel('dvf14.xlsx')"
   ]
  },
  {
   "cell_type": "markdown",
   "metadata": {},
   "source": [
    "##  Excel automation"
   ]
  },
  {
   "cell_type": "code",
   "execution_count": 54,
   "metadata": {},
   "outputs": [],
   "source": [
    "import openpyxl as xl\n",
    "from openpyxl.chart import LineChart, Reference,ScatterChart,Series"
   ]
  },
  {
   "cell_type": "markdown",
   "metadata": {},
   "source": [
    "Adding programmatically a second sheet selecting only the surface and price"
   ]
  },
  {
   "cell_type": "code",
   "execution_count": 55,
   "metadata": {},
   "outputs": [],
   "source": [
    "workbook = xl.load_workbook('dvf14.xlsx')\n",
    "sheet_1 = workbook['Sheet1']\n",
    "workbook.create_sheet('Sheet2')\n",
    "sheet_2 = workbook['Sheet2']"
   ]
  },
  {
   "cell_type": "code",
   "execution_count": 56,
   "metadata": {},
   "outputs": [
    {
     "data": {
      "text/plain": [
       "'surface_reelle_bati'"
      ]
     },
     "execution_count": 56,
     "metadata": {},
     "output_type": "execute_result"
    }
   ],
   "source": [
    "sheet_1['AL'][0].value"
   ]
  },
  {
   "cell_type": "code",
   "execution_count": 57,
   "metadata": {},
   "outputs": [
    {
     "data": {
      "text/plain": [
       "'valeur_fonciere'"
      ]
     },
     "execution_count": 57,
     "metadata": {},
     "output_type": "execute_result"
    }
   ],
   "source": [
    "sheet_1['AO'][0].value"
   ]
  },
  {
   "cell_type": "code",
   "execution_count": 59,
   "metadata": {},
   "outputs": [
    {
     "data": {
      "text/plain": [
       "641"
      ]
     },
     "execution_count": 59,
     "metadata": {},
     "output_type": "execute_result"
    }
   ],
   "source": [
    "# len(sheet_1['AL'])\n",
    "sheet_1.max_row"
   ]
  },
  {
   "cell_type": "code",
   "execution_count": 60,
   "metadata": {},
   "outputs": [
    {
     "data": {
      "text/plain": [
       "(1, 38)"
      ]
     },
     "execution_count": 60,
     "metadata": {},
     "output_type": "execute_result"
    }
   ],
   "source": [
    "from openpyxl.utils.cell import coordinate_from_string, column_index_from_string\n",
    "xy = coordinate_from_string('AL1') # returns ('AL',1)\n",
    "row = xy[1]\n",
    "col = column_index_from_string(xy[0]) # returns 38\n",
    "row,col"
   ]
  },
  {
   "cell_type": "markdown",
   "metadata": {},
   "source": [
    "## Copy data from one sheet to another\n",
    "\n",
    "https://www.geeksforgeeks.org/python-how-to-copy-data-from-one-excel-sheet-to-another/"
   ]
  },
  {
   "cell_type": "code",
   "execution_count": 61,
   "metadata": {},
   "outputs": [],
   "source": [
    "AL = 38\n",
    "mr = sheet_1.max_row\n",
    "for i in range (1, mr + 1):\n",
    "    # reading cell value from source excel file\n",
    "    c = sheet_1.cell(row = i, column = AL)\n",
    "\n",
    "    # writing the read value to destination excel file\n",
    "    sheet_2.cell(row = i, column = 1).value = c.value"
   ]
  },
  {
   "cell_type": "code",
   "execution_count": 62,
   "metadata": {},
   "outputs": [],
   "source": [
    "AO = 41\n",
    "mr = sheet_1.max_row\n",
    "for i in range (1, mr + 1):\n",
    "    # reading cell value from source excel file\n",
    "    c = sheet_1.cell(row = i, column = AO)\n",
    "\n",
    "    # writing the read value to destination excel file\n",
    "    sheet_2.cell(row = i, column = 2).value = c.value"
   ]
  },
  {
   "cell_type": "code",
   "execution_count": 63,
   "metadata": {},
   "outputs": [],
   "source": [
    "workbook.save(\"dvf14_chart.xlsx\")"
   ]
  },
  {
   "cell_type": "markdown",
   "metadata": {},
   "source": [
    "Other approach"
   ]
  },
  {
   "cell_type": "code",
   "execution_count": 64,
   "metadata": {},
   "outputs": [
    {
     "data": {
      "text/plain": [
       "31"
      ]
     },
     "execution_count": 64,
     "metadata": {},
     "output_type": "execute_result"
    }
   ],
   "source": [
    "sheet_1['AL'][1].value\n",
    "# sheet_2['B'] = sheet_1['A0']"
   ]
  },
  {
   "cell_type": "code",
   "execution_count": 65,
   "metadata": {},
   "outputs": [
    {
     "data": {
      "text/plain": [
       "31"
      ]
     },
     "execution_count": 65,
     "metadata": {},
     "output_type": "execute_result"
    }
   ],
   "source": [
    "sheet_2.cell(column=1, row=2,value=sheet_1['AL'][1].value).value"
   ]
  },
  {
   "cell_type": "markdown",
   "metadata": {},
   "source": [
    "## Create Excel Charts\n",
    "\n",
    "Create Chartsheet: https://openpyxl.readthedocs.io/en/stable/charts/chartsheet.html\n",
    "\n",
    "- https://www.geeksforgeeks.org/python-plotting-charts-in-excel-sheet-using-openpyxl-module-set-3/\n",
    "\n",
    "- https://stackoverflow.com/questions/63696835/python-openpyxl-scatter-plots-with-secondary-y-axis"
   ]
  },
  {
   "cell_type": "markdown",
   "metadata": {},
   "source": [
    "### Scatter Chart"
   ]
  },
  {
   "cell_type": "markdown",
   "metadata": {},
   "source": [
    "![immo_chart](dvf14_chart.png)"
   ]
  },
  {
   "cell_type": "code",
   "execution_count": 68,
   "metadata": {},
   "outputs": [
    {
     "data": {
      "text/plain": [
       "'Sheet2'!$A$2:$A$641"
      ]
     },
     "execution_count": 68,
     "metadata": {},
     "output_type": "execute_result"
    }
   ],
   "source": [
    "xvalues = Reference(sheet_2, min_col = 1, min_row = 2, max_row = sheet_1.max_row)\n",
    "xvalues"
   ]
  },
  {
   "cell_type": "code",
   "execution_count": 69,
   "metadata": {},
   "outputs": [],
   "source": [
    "chart = ScatterChart()\n",
    "chart.title = \"Scatter Chart\"\n",
    "chart.style = 13\n",
    "chart.y_axis.title = 'Price'\n",
    "chart.x_axis.title = 'Surface'\n",
    "\n",
    "values = Reference(sheet_2, min_col=2, min_row=1, max_row=mr)\n",
    "series = Series(values, xvalues,title_from_data=True)\n",
    "series.marker.symbol = \"diamond\"\n",
    "series.marker.graphicalProperties.solidFill = \"0000FF\" # Marker filling\n",
    "series.marker.graphicalProperties.line.solidFill = \"0000FF\" # Marker outline\n",
    "series.graphicalProperties.line.noFill = True  # hide lines\n",
    "chart.series.append(series)\n",
    "\n",
    "sheet_2.add_chart(chart, \"D2\")"
   ]
  },
  {
   "cell_type": "code",
   "execution_count": 47,
   "metadata": {},
   "outputs": [
    {
     "data": {
      "text/plain": [
       "False"
      ]
     },
     "execution_count": 47,
     "metadata": {},
     "output_type": "execute_result"
    }
   ],
   "source": [
    "s = chart.series[0]\n",
    "s.graphicalProperties.line.noFill"
   ]
  },
  {
   "cell_type": "code",
   "execution_count": 70,
   "metadata": {},
   "outputs": [],
   "source": [
    "workbook.save(\"dvf14_chart.xlsx\")"
   ]
  },
  {
   "cell_type": "markdown",
   "metadata": {},
   "source": [
    "### Line Chart"
   ]
  },
  {
   "cell_type": "code",
   "execution_count": 27,
   "metadata": {},
   "outputs": [],
   "source": [
    "c2 = LineChart()\n",
    "c2.y_axis.title = 'Price'\n",
    "c2.x_axis.title = 'Surface'\n",
    "c2.add_data(values)\n",
    "c2.set_categories(xvalues)\n",
    "sheet_2.add_chart(c2, 'D2') \n",
    "workbook.save('dvf14_chart2.xlsx')"
   ]
  },
  {
   "cell_type": "markdown",
   "metadata": {},
   "source": [
    "X values need to be sorted in ascending order to plot Line Chart"
   ]
  },
  {
   "cell_type": "markdown",
   "metadata": {},
   "source": [
    "Scatter plot helper code:"
   ]
  },
  {
   "cell_type": "code",
   "execution_count": 67,
   "metadata": {},
   "outputs": [],
   "source": [
    "from openpyxl import Workbook\n",
    "from openpyxl.chart import (\n",
    "    ScatterChart,\n",
    "    Reference,\n",
    "    Series,\n",
    ")\n",
    "\n",
    "wb = Workbook()\n",
    "ws = wb.active\n",
    "\n",
    "rows = [\n",
    "    ['Size', 'Batch 1', 'Batch 2'],\n",
    "    [2, 40, 30],\n",
    "    [3, 40, 25],\n",
    "    [4, 50, 30],\n",
    "    [5, 30, 25],\n",
    "    [6, 25, 35],\n",
    "    [7, 20, 40],\n",
    "]\n",
    "\n",
    "for row in rows:\n",
    "    ws.append(row)\n",
    "\n",
    "chart = ScatterChart()\n",
    "chart.title = \"Scatter Chart\"\n",
    "chart.style = 13\n",
    "chart.x_axis.title = 'Size'\n",
    "chart.y_axis.title = 'Percentage'\n",
    "\n",
    "xvalues = Reference(ws, min_col=1, min_row=2, max_row=7)\n",
    "for i in range(2, 4):\n",
    "    values = Reference(ws, min_col=i, min_row=1, max_row=7)\n",
    "    series = Series(values, xvalues, title_from_data=True)\n",
    "    chart.series.append(series)\n",
    "\n",
    "ws.add_chart(chart, \"A10\")\n",
    "\n",
    "wb.save(\"scatter.xlsx\")"
   ]
  },
  {
   "cell_type": "markdown",
   "metadata": {},
   "source": [
    "![scatter](scatter.png)"
   ]
  },
  {
   "cell_type": "markdown",
   "metadata": {},
   "source": [
    "## Extracting chart"
   ]
  },
  {
   "cell_type": "code",
   "execution_count": 73,
   "metadata": {},
   "outputs": [
    {
     "data": {
      "text/plain": [
       "'d:\\\\devel\\\\automate'"
      ]
     },
     "execution_count": 73,
     "metadata": {},
     "output_type": "execute_result"
    }
   ],
   "source": [
    "import os\n",
    "os.getcwd()"
   ]
  },
  {
   "cell_type": "code",
   "execution_count": 74,
   "metadata": {},
   "outputs": [],
   "source": [
    "input_file = \"d:\\\\devel\\\\automate\\\\dvf14_chart.xlsx\"\n",
    "output_image = \"immo_chart.png\""
   ]
  },
  {
   "cell_type": "code",
   "execution_count": 75,
   "metadata": {},
   "outputs": [],
   "source": [
    "import win32com.client\n",
    "operation = win32com.client.Dispatch(\"Excel.Application\")\n",
    "operation.Visible = 0\n",
    "operation.DisplayAlerts = 0\n",
    "workbook_bis = operation.Workbooks.Open(input_file)\n",
    "sheet_bis = operation.Sheets(2)"
   ]
  },
  {
   "cell_type": "code",
   "execution_count": 76,
   "metadata": {},
   "outputs": [],
   "source": [
    "from PIL import ImageGrab, Image\n",
    "for x, chart in enumerate(sheet_bis.Shapes):\n",
    "    chart.Copy()\n",
    "    image = ImageGrab.grabclipboard()\n",
    "    image.save(output_image, 'png')\n",
    "    pass\n",
    "workbook_bis.Close(True)\n",
    "operation.Quit()"
   ]
  },
  {
   "cell_type": "code",
   "execution_count": 77,
   "metadata": {},
   "outputs": [
    {
     "data": {
      "image/png": "[encoded data removed]",
      "text/plain": [
       "<IPython.core.display.Image object>"
      ]
     },
     "execution_count": 77,
     "metadata": {},
     "output_type": "execute_result"
    }
   ],
   "source": [
    "from IPython.display import Image\n",
    "Image(output_image)"
   ]
  },
  {
   "cell_type": "markdown",
   "metadata": {},
   "source": [
    "## Next: Create Doc report\n",
    "\n",
    "https://python-docx.readthedocs.io/en/latest/"
   ]
  },
  {
   "cell_type": "code",
   "execution_count": 49,
   "metadata": {},
   "outputs": [],
   "source": [
    "from docx import Document\n",
    "from docx.shared import Cm"
   ]
  },
  {
   "cell_type": "code",
   "execution_count": 50,
   "metadata": {},
   "outputs": [
    {
     "data": {
      "text/plain": [
       "<docx.text.paragraph.Paragraph at 0x1926fec5d60>"
      ]
     },
     "execution_count": 50,
     "metadata": {},
     "output_type": "execute_result"
    }
   ],
   "source": [
    "document = Document()\n",
    "\n",
    "document.add_heading('Report on Excel and Word automation', 0)"
   ]
  },
  {
   "cell_type": "code",
   "execution_count": 51,
   "metadata": {},
   "outputs": [],
   "source": [
    "p = document.add_paragraph('This report will cover how to automate ')\n",
    "p.add_run('Excel').bold = True\n",
    "p.add_run(' and ')\n",
    "p.add_run('Word.').italic = True"
   ]
  },
  {
   "cell_type": "code",
   "execution_count": 52,
   "metadata": {},
   "outputs": [
    {
     "data": {
      "text/plain": [
       "<docx.text.paragraph.Paragraph at 0x1926fec5670>"
      ]
     },
     "execution_count": 52,
     "metadata": {},
     "output_type": "execute_result"
    }
   ],
   "source": [
    "document.add_heading('Excel automation', level=1)\n",
    "document.add_paragraph('“Writing code accounts for 90 percent of programming. Debugging code accounts for the other 90 percent.”', style='Intense Quote')"
   ]
  },
  {
   "cell_type": "code",
   "execution_count": 53,
   "metadata": {},
   "outputs": [
    {
     "data": {
      "text/plain": [
       "<docx.text.paragraph.Paragraph at 0x1926fedabb0>"
      ]
     },
     "execution_count": 53,
     "metadata": {},
     "output_type": "execute_result"
    }
   ],
   "source": [
    "document.add_paragraph(\n",
    "    'first item in unordered list', style='List Bullet'\n",
    ")"
   ]
  },
  {
   "cell_type": "code",
   "execution_count": 54,
   "metadata": {},
   "outputs": [
    {
     "data": {
      "text/plain": [
       "<docx.text.paragraph.Paragraph at 0x1926fee4c40>"
      ]
     },
     "execution_count": 54,
     "metadata": {},
     "output_type": "execute_result"
    }
   ],
   "source": [
    "document.add_paragraph(\n",
    "    'first item in ordered list', style='List Number'\n",
    ")"
   ]
  },
  {
   "cell_type": "code",
   "execution_count": 55,
   "metadata": {},
   "outputs": [
    {
     "data": {
      "text/plain": [
       "<docx.shape.InlineShape at 0x1925f54dca0>"
      ]
     },
     "execution_count": 55,
     "metadata": {},
     "output_type": "execute_result"
    }
   ],
   "source": [
    "document.add_picture('immo_chart.png',width=Cm(16))"
   ]
  },
  {
   "cell_type": "code",
   "execution_count": 56,
   "metadata": {},
   "outputs": [
    {
     "data": {
      "text/html": [
       "<div>\n",
       "<style scoped>\n",
       "    .dataframe tbody tr th:only-of-type {\n",
       "        vertical-align: middle;\n",
       "    }\n",
       "\n",
       "    .dataframe tbody tr th {\n",
       "        vertical-align: top;\n",
       "    }\n",
       "\n",
       "    .dataframe thead th {\n",
       "        text-align: right;\n",
       "    }\n",
       "</style>\n",
       "<table border=\"1\" class=\"dataframe\">\n",
       "  <thead>\n",
       "    <tr style=\"text-align: right;\">\n",
       "      <th></th>\n",
       "      <th>surface_reelle_bati</th>\n",
       "      <th>valeur_fonciere</th>\n",
       "    </tr>\n",
       "  </thead>\n",
       "  <tbody>\n",
       "    <tr>\n",
       "      <th>0</th>\n",
       "      <td>31</td>\n",
       "      <td>95000.0</td>\n",
       "    </tr>\n",
       "    <tr>\n",
       "      <th>1</th>\n",
       "      <td>43</td>\n",
       "      <td>545000.0</td>\n",
       "    </tr>\n",
       "    <tr>\n",
       "      <th>2</th>\n",
       "      <td>18</td>\n",
       "      <td>220000.0</td>\n",
       "    </tr>\n",
       "    <tr>\n",
       "      <th>3</th>\n",
       "      <td>25</td>\n",
       "      <td>132500.0</td>\n",
       "    </tr>\n",
       "    <tr>\n",
       "      <th>4</th>\n",
       "      <td>75</td>\n",
       "      <td>590000.0</td>\n",
       "    </tr>\n",
       "  </tbody>\n",
       "</table>\n",
       "</div>"
      ],
      "text/plain": [
       "   surface_reelle_bati  valeur_fonciere\n",
       "0                   31          95000.0\n",
       "1                   43         545000.0\n",
       "2                   18         220000.0\n",
       "3                   25         132500.0\n",
       "4                   75         590000.0"
      ]
     },
     "execution_count": 56,
     "metadata": {},
     "output_type": "execute_result"
    }
   ],
   "source": [
    "import pandas as pd\n",
    "df = pd.read_excel(\"dvf14_chart.xlsx\",sheet_name = \"Sheet2\")\n",
    "df.head()"
   ]
  },
  {
   "cell_type": "code",
   "execution_count": 57,
   "metadata": {},
   "outputs": [],
   "source": [
    "table = document.add_table(rows=1, cols=3)\n",
    "hdr_cells = table.rows[0].cells\n",
    "hdr_cells[0].text = 'index'\n",
    "hdr_cells[1].text = df.columns[0]\n",
    "hdr_cells[2].text = df.columns[1]"
   ]
  },
  {
   "cell_type": "code",
   "execution_count": 58,
   "metadata": {},
   "outputs": [
    {
     "data": {
      "text/plain": [
       "[(0, 31, 95000.),\n",
       " (1, 43, 545000.),\n",
       " (2, 18, 220000.),\n",
       " (3, 25, 132500.),\n",
       " (4, 75, 590000.)]"
      ]
     },
     "execution_count": 58,
     "metadata": {},
     "output_type": "execute_result"
    }
   ],
   "source": [
    "records = df.to_records()\n",
    "result = list(records)\n",
    "result[0:5]"
   ]
  },
  {
   "cell_type": "code",
   "execution_count": 59,
   "metadata": {},
   "outputs": [],
   "source": [
    "# Add data to the table\n",
    "for qty, id, desc in result[0:5]:\n",
    "    row_cells = table.add_row().cells\n",
    "    row_cells[0].text = str(qty)\n",
    "    row_cells[1].text = str(id)\n",
    "    row_cells[2].text = str(desc)"
   ]
  },
  {
   "cell_type": "code",
   "execution_count": 60,
   "metadata": {},
   "outputs": [],
   "source": [
    "# document.add_page_break()\n",
    "\n",
    "document.save('dvf14_report.docx')"
   ]
  }
 ],
 "metadata": {
  "interpreter": {
   "hash": "a8623940faa2770c5f02c22cc8d7fde3cdeab3ae883a3304bbba5051fa84e70c"
  },
  "kernelspec": {
   "display_name": "Python 3.9.1 64-bit ('env': venv)",
   "name": "python3"
  },
  "language_info": {
   "codemirror_mode": {
    "name": "ipython",
    "version": 3
   },
   "file_extension": ".py",
   "mimetype": "text/x-python",
   "name": "python",
   "nbconvert_exporter": "python",
   "pygments_lexer": "ipython3",
   "version": "3.9.1"
  },
  "metadata": {
   "interpreter": {
    "hash": "98c03fd80c39d67a7182d60ed3fc21354e3dc1f3918be03e46d383ced3ccec23"
   }
  },
  "orig_nbformat": 2
 },
 "nbformat": 4,
 "nbformat_minor": 2
}
