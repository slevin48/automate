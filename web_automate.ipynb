{
 "cells": [
  {
   "cell_type": "markdown",
   "metadata": {},
   "source": [
    "# Web automation"
   ]
  },
  {
   "cell_type": "markdown",
   "metadata": {},
   "source": [
    "## Beautiful Soup"
   ]
  },
  {
   "cell_type": "markdown",
   "metadata": {},
   "source": [
    "\n",
    "https://realpython.com/beautiful-soup-web-scraper-python/\n",
    "\n",
    "![fake_webpage](fake_webpage.png)"
   ]
  },
  {
   "cell_type": "code",
   "execution_count": 1,
   "metadata": {},
   "outputs": [],
   "source": [
    "import requests as rq\n",
    "\n",
    "URL = \"https://realpython.github.io/fake-jobs/\"\n",
    "page = rq.get(URL)\n",
    "\n",
    "# print(page.text)"
   ]
  },
  {
   "cell_type": "code",
   "execution_count": 2,
   "metadata": {},
   "outputs": [],
   "source": [
    "from bs4 import BeautifulSoup\n",
    "soup = BeautifulSoup(page.content, \"html.parser\")"
   ]
  },
  {
   "cell_type": "code",
   "execution_count": 5,
   "metadata": {},
   "outputs": [
    {
     "data": {
      "text/plain": [
       "<img alt=\"Real Python Logo\" src=\"https://files.realpython.com/media/real-python-logo-thumbnail.7f0db70c2ed2.jpg?__no_cf_polish=1\"/>"
      ]
     },
     "execution_count": 5,
     "metadata": {},
     "output_type": "execute_result"
    }
   ],
   "source": [
    "res = soup.find(\"img\")\n",
    "res"
   ]
  },
  {
   "cell_type": "code",
   "execution_count": 6,
   "metadata": {},
   "outputs": [
    {
     "data": {
      "text/plain": [
       "4821"
      ]
     },
     "execution_count": 6,
     "metadata": {},
     "output_type": "execute_result"
    }
   ],
   "source": [
    "r = rq.get(res['src'])\n",
    "open(res['alt']+\".jpg\",\"wb\").write(r.content)"
   ]
  },
  {
   "cell_type": "code",
   "execution_count": 7,
   "metadata": {},
   "outputs": [],
   "source": [
    "# # Open image outside of the notebook\n",
    "# from PIL import Image\n",
    "# with Image.open(res['alt']+\".jpg\") as im:\n",
    "#     im.show()"
   ]
  },
  {
   "cell_type": "code",
   "execution_count": 8,
   "metadata": {},
   "outputs": [
    {
     "data": {
      "image/jpeg": "[encoded data removed]",
      "text/plain": [
       "<IPython.core.display.Image object>"
      ]
     },
     "metadata": {},
     "output_type": "display_data"
    }
   ],
   "source": [
    "from IPython.display import Image \n",
    "img = Image(filename=res['alt']+\".jpg\")\n",
    "display(img)"
   ]
  },
  {
   "cell_type": "code",
   "execution_count": 15,
   "metadata": {},
   "outputs": [
    {
     "data": {
      "text/plain": [
       "100"
      ]
     },
     "execution_count": 15,
     "metadata": {},
     "output_type": "execute_result"
    }
   ],
   "source": [
    "res = soup.find_all(class_ = \"card-footer-item\")\n",
    "# len(res) # 200\n",
    "res2 = [r for r in res[1::2]] # every other element of the list (starting at the second element)\n",
    "len(res2)"
   ]
  },
  {
   "cell_type": "code",
   "execution_count": 19,
   "metadata": {},
   "outputs": [
    {
     "data": {
      "text/plain": [
       "<a class=\"card-footer-item\" href=\"https://realpython.github.io/fake-jobs/jobs/senior-python-developer-0.html\" target=\"_blank\">Apply</a>"
      ]
     },
     "execution_count": 19,
     "metadata": {},
     "output_type": "execute_result"
    }
   ],
   "source": [
    "res2[0]"
   ]
  },
  {
   "cell_type": "code",
   "execution_count": 20,
   "metadata": {},
   "outputs": [
    {
     "data": {
      "text/plain": [
       "'senior-python-developer-0.html'"
      ]
     },
     "execution_count": 20,
     "metadata": {},
     "output_type": "execute_result"
    }
   ],
   "source": [
    "res2[0]['href'].split(\"/\")[-1]"
   ]
  },
  {
   "cell_type": "code",
   "execution_count": 34,
   "metadata": {},
   "outputs": [],
   "source": [
    "URL = res2[0]['href']\n",
    "filename = res2[0]['href'].split(\"/\")[-1].replace(\".html\",\".txt\")\n",
    "page = rq.get(URL)\n",
    "soup = BeautifulSoup(page.content, \"html.parser\")\n",
    "h1 = soup.find(\"h1\").text\n",
    "h2 = soup.find(\"h2\").text\n",
    "c = soup.find(class_ = \"content\").text\n",
    "f = open(\"jobs/\"+filename,\"w\")\n",
    "f.write(h1)\n",
    "f.write(h2)\n",
    "f.write(c)\n",
    "f.close()"
   ]
  },
  {
   "cell_type": "code",
   "execution_count": 32,
   "metadata": {},
   "outputs": [
    {
     "data": {
      "text/plain": [
       "'\\n        Fake Python\\n       Payne, Roberts and Davis \\nProfessional asset web application environmentally friendly detail-oriented asset. Coordinate educational dashboard agile employ growth opportunity. Company programs CSS explore role. Html educational grit web application. Oversea SCRUM talented support. Web Application fast-growing communities inclusive programs job CSS. Css discussions growth opportunity explore open-minded oversee. Css Python environmentally friendly collaborate inclusive role. Django no experience oversee dashboard environmentally friendly willing to learn programs. Programs open-minded programs asset.\\nLocation: Stewartbury, AA\\nPosted: 2021-04-08\\n'"
      ]
     },
     "execution_count": 32,
     "metadata": {},
     "output_type": "execute_result"
    }
   ],
   "source": [
    "\" \".join([h1,h2,c])"
   ]
  },
  {
   "cell_type": "code",
   "execution_count": null,
   "metadata": {},
   "outputs": [],
   "source": [
    "for r in res2:\n",
    "    URL = r['href']\n",
    "    filename = r['href'].split(\"/\")[-1].replace(\".html\",\".txt\")\n",
    "    page = rq.get(URL)\n",
    "    soup = BeautifulSoup(page.content, \"html.parser\")\n",
    "    h1 = soup.find(\"h1\").text\n",
    "    h2 = soup.find(\"h2\").text\n",
    "    c = soup.find(class_ = \"content\").text\n",
    "    f = open(\"jobs/\"+filename,\"w\")\n",
    "    f.write(h1)\n",
    "    f.write(h2)\n",
    "    f.write(c)\n",
    "    f.close()"
   ]
  },
  {
   "cell_type": "code",
   "execution_count": 1,
   "metadata": {},
   "outputs": [],
   "source": [
    "import requests as rq\n",
    "from bs4 import BeautifulSoup\n",
    "\n",
    "URL = 'https://realpython.github.io/fake-jobs/'\n",
    "page = rq.get(URL)\n",
    "soup = BeautifulSoup(page.content, \"html.parser\")\n",
    "res = soup.find_all(class_ = \"location\")"
   ]
  },
  {
   "cell_type": "code",
   "execution_count": 7,
   "metadata": {},
   "outputs": [
    {
     "data": {
      "text/plain": [
       "31"
      ]
     },
     "execution_count": 7,
     "metadata": {},
     "output_type": "execute_result"
    }
   ],
   "source": [
    "open(\"location1.txt\",\"w\").write(res[0].text)"
   ]
  },
  {
   "cell_type": "markdown",
   "metadata": {},
   "source": [
    "## Selenium"
   ]
  },
  {
   "cell_type": "markdown",
   "metadata": {},
   "source": [
    "### Installation\n",
    "\n",
    "| Browser | Webdriver |\n",
    "|---------|-----------------------------------------------|\n",
    "| Chrome: |\thttps://sites.google.com/chromium.org/driver/ |\n",
    "| Edge: |\thttps://developer.microsoft.com/en-us/microsoft-edge/tools/webdriver/ |\n",
    "| Firefox: |\thttps://github.com/mozilla/geckodriver/releases |\n",
    "\n",
    "### Simple usage\n",
    "https://selenium-python.readthedocs.io/getting-started.html#simple-usage\n",
    "\n",
    "### Locating elements\n",
    "https://selenium-python.readthedocs.io/locating-elements.html\n",
    "\n",
    "Example usage:\n",
    "```python\n",
    "from selenium.webdriver.common.by import By\n",
    "\n",
    "driver.find_element(By.XPATH, '//button[text()=\"Some text\"]')\n",
    "driver.find_elements(By.XPATH, '//button')\n",
    "```\n",
    "\n",
    "These are the attributes available for By class:\n",
    "```python\n",
    "ID = \"id\"\n",
    "XPATH = \"xpath\"\n",
    "LINK_TEXT = \"link text\"\n",
    "PARTIAL_LINK_TEXT = \"partial link text\"\n",
    "NAME = \"name\"\n",
    "TAG_NAME = \"tag name\"\n",
    "CLASS_NAME = \"class name\"\n",
    "CSS_SELECTOR = \"css selector\"\n",
    "```"
   ]
  },
  {
   "cell_type": "markdown",
   "metadata": {},
   "source": [
    "### Manual extract"
   ]
  },
  {
   "cell_type": "code",
   "execution_count": 1,
   "metadata": {},
   "outputs": [],
   "source": [
    "import pandas as pd\n",
    "from selenium import webdriver\n",
    "from selenium.webdriver.common.by import By\n",
    "driver = webdriver.Chrome()"
   ]
  },
  {
   "cell_type": "code",
   "execution_count": 2,
   "metadata": {},
   "outputs": [],
   "source": [
    "url = \"https://realpython.github.io/fake-jobs/\""
   ]
  },
  {
   "cell_type": "code",
   "execution_count": 3,
   "metadata": {},
   "outputs": [],
   "source": [
    "driver.get(url)"
   ]
  },
  {
   "cell_type": "code",
   "execution_count": 4,
   "metadata": {},
   "outputs": [
    {
     "data": {
      "text/plain": [
       "'Fake Python'"
      ]
     },
     "execution_count": 4,
     "metadata": {},
     "output_type": "execute_result"
    }
   ],
   "source": [
    "title = driver.find_element(by=By.CLASS_NAME, value=\"title\")\n",
    "title.text"
   ]
  },
  {
   "cell_type": "code",
   "execution_count": 5,
   "metadata": {},
   "outputs": [
    {
     "data": {
      "text/plain": [
       "'https://files.realpython.com/media/real-python-logo-thumbnail.7f0db70c2ed2.jpg?__no_cf_polish=1'"
      ]
     },
     "execution_count": 5,
     "metadata": {},
     "output_type": "execute_result"
    }
   ],
   "source": [
    "res = driver.find_elements(by=By.TAG_NAME, value=\"img\")\n",
    "src = res[0].get_property('src')\n",
    "src"
   ]
  },
  {
   "cell_type": "code",
   "execution_count": 6,
   "metadata": {},
   "outputs": [
    {
     "data": {
      "text/html": [
       "<img src=\"https://files.realpython.com/media/real-python-logo-thumbnail.7f0db70c2ed2.jpg?__no_cf_polish=1\"/>"
      ],
      "text/plain": [
       "<IPython.core.display.Image object>"
      ]
     },
     "execution_count": 6,
     "metadata": {},
     "output_type": "execute_result"
    }
   ],
   "source": [
    "from IPython.display import Image \n",
    "Image(url=src)"
   ]
  },
  {
   "cell_type": "code",
   "execution_count": 7,
   "metadata": {},
   "outputs": [
    {
     "data": {
      "text/plain": [
       "100"
      ]
     },
     "execution_count": 7,
     "metadata": {},
     "output_type": "execute_result"
    }
   ],
   "source": [
    "item = driver.find_elements(by=By.CLASS_NAME, value=\"card-footer-item\")\n",
    "# len(res)\n",
    "apply = [r for r in item[1::2]] # every other element of the list (starting at the second element)\n",
    "len(apply)"
   ]
  },
  {
   "cell_type": "code",
   "execution_count": 8,
   "metadata": {},
   "outputs": [
    {
     "data": {
      "text/plain": [
       "'https://realpython.github.io/fake-jobs/jobs/senior-python-developer-0.html'"
      ]
     },
     "execution_count": 8,
     "metadata": {},
     "output_type": "execute_result"
    }
   ],
   "source": [
    "href = apply[0].get_attribute('href')\n",
    "href"
   ]
  },
  {
   "cell_type": "code",
   "execution_count": 9,
   "metadata": {},
   "outputs": [
    {
     "data": {
      "text/plain": [
       "<selenium.webdriver.remote.webelement.WebElement (session=\"15aad410e7cca28d0c80c1c9f98757a9\", element=\"d53a45fc-4d0d-42cf-aa23-4ff0364fdffa\")>"
      ]
     },
     "execution_count": 9,
     "metadata": {},
     "output_type": "execute_result"
    }
   ],
   "source": [
    "apply[0]"
   ]
  },
  {
   "cell_type": "code",
   "execution_count": 10,
   "metadata": {},
   "outputs": [],
   "source": [
    "# apply[0].click()\n",
    "driver.get(href)"
   ]
  },
  {
   "cell_type": "code",
   "execution_count": 11,
   "metadata": {},
   "outputs": [
    {
     "data": {
      "text/plain": [
       "'Senior Python Developer'"
      ]
     },
     "execution_count": 11,
     "metadata": {},
     "output_type": "execute_result"
    }
   ],
   "source": [
    "ResultsContainer = driver.find_element(By.ID,\"ResultsContainer\")\n",
    "h1 = ResultsContainer.find_element(By.TAG_NAME,\"h1\").text\n",
    "h1"
   ]
  },
  {
   "cell_type": "code",
   "execution_count": 12,
   "metadata": {},
   "outputs": [],
   "source": [
    "driver.get(url)"
   ]
  },
  {
   "cell_type": "markdown",
   "metadata": {},
   "source": [
    "### Automate extract"
   ]
  },
  {
   "cell_type": "code",
   "execution_count": null,
   "metadata": {},
   "outputs": [],
   "source": [
    "job_titles = []\n",
    "links = []\n",
    "for i in range(100):\n",
    "    item = driver.find_elements(by=By.CLASS_NAME, value=\"card-footer-item\")\n",
    "    apply = [r for r in item[1::2]] # every other element of the list (starting at the second element)\n",
    "    href = apply[i].get_attribute('href')\n",
    "    driver.get(href)\n",
    "    ResultsContainer = driver.find_element(By.ID,\"ResultsContainer\")\n",
    "    h1 = ResultsContainer.find_element(By.TAG_NAME,\"h1\").text\n",
    "    job_titles.append(h1)\n",
    "    links.append(href)\n",
    "    driver.get(url)"
   ]
  },
  {
   "cell_type": "code",
   "execution_count": null,
   "metadata": {},
   "outputs": [
    {
     "data": {
      "text/html": [
       "<div>\n",
       "<style scoped>\n",
       "    .dataframe tbody tr th:only-of-type {\n",
       "        vertical-align: middle;\n",
       "    }\n",
       "\n",
       "    .dataframe tbody tr th {\n",
       "        vertical-align: top;\n",
       "    }\n",
       "\n",
       "    .dataframe thead th {\n",
       "        text-align: right;\n",
       "    }\n",
       "</style>\n",
       "<table border=\"1\" class=\"dataframe\">\n",
       "  <thead>\n",
       "    <tr style=\"text-align: right;\">\n",
       "      <th></th>\n",
       "      <th>job_titles</th>\n",
       "      <th>href</th>\n",
       "    </tr>\n",
       "  </thead>\n",
       "  <tbody>\n",
       "    <tr>\n",
       "      <th>0</th>\n",
       "      <td>Senior Python Developer</td>\n",
       "      <td>https://realpython.github.io/fake-jobs/jobs/sh...</td>\n",
       "    </tr>\n",
       "    <tr>\n",
       "      <th>1</th>\n",
       "      <td>Energy engineer</td>\n",
       "      <td>https://realpython.github.io/fake-jobs/jobs/sh...</td>\n",
       "    </tr>\n",
       "    <tr>\n",
       "      <th>2</th>\n",
       "      <td>Legal executive</td>\n",
       "      <td>https://realpython.github.io/fake-jobs/jobs/sh...</td>\n",
       "    </tr>\n",
       "    <tr>\n",
       "      <th>3</th>\n",
       "      <td>Fitness centre manager</td>\n",
       "      <td>https://realpython.github.io/fake-jobs/jobs/sh...</td>\n",
       "    </tr>\n",
       "    <tr>\n",
       "      <th>4</th>\n",
       "      <td>Product manager</td>\n",
       "      <td>https://realpython.github.io/fake-jobs/jobs/sh...</td>\n",
       "    </tr>\n",
       "    <tr>\n",
       "      <th>...</th>\n",
       "      <td>...</td>\n",
       "      <td>...</td>\n",
       "    </tr>\n",
       "    <tr>\n",
       "      <th>95</th>\n",
       "      <td>Museum/gallery exhibitions officer</td>\n",
       "      <td>https://realpython.github.io/fake-jobs/jobs/sh...</td>\n",
       "    </tr>\n",
       "    <tr>\n",
       "      <th>96</th>\n",
       "      <td>Radiographer, diagnostic</td>\n",
       "      <td>https://realpython.github.io/fake-jobs/jobs/sh...</td>\n",
       "    </tr>\n",
       "    <tr>\n",
       "      <th>97</th>\n",
       "      <td>Database administrator</td>\n",
       "      <td>https://realpython.github.io/fake-jobs/jobs/sh...</td>\n",
       "    </tr>\n",
       "    <tr>\n",
       "      <th>98</th>\n",
       "      <td>Furniture designer</td>\n",
       "      <td>https://realpython.github.io/fake-jobs/jobs/sh...</td>\n",
       "    </tr>\n",
       "    <tr>\n",
       "      <th>99</th>\n",
       "      <td>Ship broker</td>\n",
       "      <td>https://realpython.github.io/fake-jobs/jobs/sh...</td>\n",
       "    </tr>\n",
       "  </tbody>\n",
       "</table>\n",
       "<p>100 rows × 2 columns</p>\n",
       "</div>"
      ],
      "text/plain": [
       "                            job_titles  \\\n",
       "0              Senior Python Developer   \n",
       "1                      Energy engineer   \n",
       "2                      Legal executive   \n",
       "3               Fitness centre manager   \n",
       "4                      Product manager   \n",
       "..                                 ...   \n",
       "95  Museum/gallery exhibitions officer   \n",
       "96            Radiographer, diagnostic   \n",
       "97              Database administrator   \n",
       "98                  Furniture designer   \n",
       "99                         Ship broker   \n",
       "\n",
       "                                                 href  \n",
       "0   https://realpython.github.io/fake-jobs/jobs/sh...  \n",
       "1   https://realpython.github.io/fake-jobs/jobs/sh...  \n",
       "2   https://realpython.github.io/fake-jobs/jobs/sh...  \n",
       "3   https://realpython.github.io/fake-jobs/jobs/sh...  \n",
       "4   https://realpython.github.io/fake-jobs/jobs/sh...  \n",
       "..                                                ...  \n",
       "95  https://realpython.github.io/fake-jobs/jobs/sh...  \n",
       "96  https://realpython.github.io/fake-jobs/jobs/sh...  \n",
       "97  https://realpython.github.io/fake-jobs/jobs/sh...  \n",
       "98  https://realpython.github.io/fake-jobs/jobs/sh...  \n",
       "99  https://realpython.github.io/fake-jobs/jobs/sh...  \n",
       "\n",
       "[100 rows x 2 columns]"
      ]
     },
     "metadata": {},
     "output_type": "display_data"
    }
   ],
   "source": [
    "pd.DataFrame({\"job_titles\":job_titles,\"href\":href})"
   ]
  }
 ],
 "metadata": {
  "kernelspec": {
   "display_name": "Python 3.9.1 64-bit",
   "language": "python",
   "name": "python3"
  },
  "language_info": {
   "codemirror_mode": {
    "name": "ipython",
    "version": 3
   },
   "file_extension": ".py",
   "mimetype": "text/x-python",
   "name": "python",
   "nbconvert_exporter": "python",
   "pygments_lexer": "ipython3",
   "version": "3.9.1"
  },
  "orig_nbformat": 4,
  "vscode": {
   "interpreter": {
    "hash": "1c1432d633455afcdc34e3c8b37f63f741181518a9e4616aa627c71895002f95"
   }
  }
 },
 "nbformat": 4,
 "nbformat_minor": 2
}
